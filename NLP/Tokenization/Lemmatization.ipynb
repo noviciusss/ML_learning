{
 "cells": [
  {
   "cell_type": "code",
   "execution_count": 1,
   "id": "e13ec3cd-d0a1-4581-a8a2-59b635adbb61",
   "metadata": {},
   "outputs": [],
   "source": [
    "from nltk.stem import WordNetLemmatizer"
   ]
  },
  {
   "cell_type": "code",
   "execution_count": 7,
   "id": "5b338718-ae98-439c-b86e-aec85b41825b",
   "metadata": {},
   "outputs": [
    {
     "name": "stderr",
     "output_type": "stream",
     "text": [
      "[nltk_data] Downloading package wordnet to\n",
      "[nltk_data]     C:\\Users\\samar\\AppData\\Roaming\\nltk_data...\n"
     ]
    },
    {
     "data": {
      "text/plain": [
       "True"
      ]
     },
     "execution_count": 7,
     "metadata": {},
     "output_type": "execute_result"
    }
   ],
   "source": [
    " import nltk\n",
    "nltk.download('wordnet')"
   ]
  },
  {
   "cell_type": "code",
   "execution_count": 20,
   "id": "4771163c-42ce-41c1-ae99-fafb2b4045ae",
   "metadata": {},
   "outputs": [],
   "source": [
    "words=['eating','eaten','eats','writing','written','writes','programming','programs','trouble', 'troubled', 'troubling','history']"
   ]
  },
  {
   "cell_type": "code",
   "execution_count": 4,
   "id": "d836a26b-5731-4518-a6d9-eeda5b4e6734",
   "metadata": {},
   "outputs": [],
   "source": [
    "wlem = WordNetLemmatizer()"
   ]
  },
  {
   "cell_type": "code",
   "execution_count": 18,
   "id": "c8590c1f-4c68-4f47-a5fe-d6805b4d46f8",
   "metadata": {},
   "outputs": [
    {
     "data": {
      "text/plain": [
       "'go'"
      ]
     },
     "execution_count": 18,
     "metadata": {},
     "output_type": "execute_result"
    }
   ],
   "source": [
    "\"\"\"POS\n",
    "noun -n\n",
    "verb-v\n",
    "adjective-a\n",
    "adverb-r\n",
    "\"\"\"\n",
    "\n",
    "wlem.lemmatize('going',pos='v') \n"
   ]
  },
  {
   "cell_type": "code",
   "execution_count": 21,
   "id": "f02eb75c-6b94-45ba-ace4-226ba2fdb0fe",
   "metadata": {},
   "outputs": [
    {
     "name": "stdout",
     "output_type": "stream",
     "text": [
      "eating--->eat\n",
      "eaten--->eat\n",
      "eats--->eat\n",
      "writing--->write\n",
      "written--->write\n",
      "writes--->write\n",
      "programming--->program\n",
      "programs--->program\n",
      "trouble--->trouble\n",
      "troubled--->trouble\n",
      "troubling--->trouble\n",
      "history--->history\n"
     ]
    }
   ],
   "source": [
    "for word in words:\n",
    "    print(word+'--->'+wlem.lemmatize(word,pos='v'))"
   ]
  },
  {
   "cell_type": "code",
   "execution_count": 25,
   "id": "08871f8d-c9a6-4ef5-a852-5ecab2bb0216",
   "metadata": {},
   "outputs": [
    {
     "data": {
      "text/plain": [
       "('fairly', 'spotingly')"
      ]
     },
     "execution_count": 25,
     "metadata": {},
     "output_type": "execute_result"
    }
   ],
   "source": [
    "wlem.lemmatize('fairly',pos='v'),wlem.lemmatize('spotingly',pos='a')"
   ]
  },
  {
   "cell_type": "code",
   "execution_count": null,
   "id": "1817f504-14e7-4c8d-8353-7ee1be3bcf07",
   "metadata": {},
   "outputs": [],
   "source": []
  }
 ],
 "metadata": {
  "kernelspec": {
   "display_name": "Python 3 (ipykernel)",
   "language": "python",
   "name": "python3"
  },
  "language_info": {
   "codemirror_mode": {
    "name": "ipython",
    "version": 3
   },
   "file_extension": ".py",
   "mimetype": "text/x-python",
   "name": "python",
   "nbconvert_exporter": "python",
   "pygments_lexer": "ipython3",
   "version": "3.12.7"
  }
 },
 "nbformat": 4,
 "nbformat_minor": 5
}
